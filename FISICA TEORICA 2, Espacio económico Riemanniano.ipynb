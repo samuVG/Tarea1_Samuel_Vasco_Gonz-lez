{
 "cells": [
  {
   "cell_type": "markdown",
   "metadata": {},
   "source": [
    "\n",
    "<h2><center>\n",
    "$\\textbf{Espacio económico Riemanniano}$ \n",
    "</center></h2>\n",
    "\n",
    "\n",
    "<h3><center> Integrantes </center></h3>\n",
    "\n",
    "<h4><center>Samuel Vasco González\n",
    "<h4><center>Luis Adrián Avendaño Londoño"
   ]
  },
  {
   "cell_type": "markdown",
   "metadata": {},
   "source": [
    "Se construye un espacio 5-dimensional $R^5 = \\left\\lbrace(G,I,E,P,Q)\\right\\rbrace $ donde las variables independientes del espacio son:\n",
    "\n",
    "$G$: Potencial económico de crecimiento\n",
    "\n",
    "$I$: Estabilidad política interna\n",
    "\n",
    "$E$: Entropía\n",
    "\n",
    "$P$: Inflación\n",
    "\n",
    "$Q$: Cantidad de producción\n",
    "\n",
    "Las coordenas E, Q son variables extensisvas, mientras que las coordenadas P, I son variables intensivas y G es el potencial que mide la energía del espacio. Las formas diferenciales de las tres leyes ecónomicas son:\n",
    "\n",
    "\n",
    "$ \\textbf{Primera Ley}\\longmapsto $ La energía es conservada en cualquier proceso que involucre un sistema ecónomico y sus alrededores \n",
    "\n",
    "$ \\textbf{Segunda Ley}\\longmapsto $ $dq=IdE$ $\\hspace{0.1cm}$ y $\\hspace{0.1cm}$ el $lim_{I\\longmapsto 0} E= 0$\n",
    "\n",
    "$ \\textbf{Tercera Ley}\\longmapsto $ La ecuación fundamental de economía: $dG - IdE +PdQ = 0$. Es una combinación entre la primera y la segunda ley\n",
    "\n",
    "La notación a seguir será la siguiente: $x^1= G$,$\\hspace{0.2cm}$$x^2 = I$,$\\hspace{0.2cm}$$x^3 = E$,$\\hspace{0.2cm}$$x^4 = P$,$\\hspace{0.2cm}$$x^5 = Q$\n",
    "\n",
    "\n",
    "\n",
    "\n"
   ]
  },
  {
   "cell_type": "markdown",
   "metadata": {},
   "source": [
    "El significado económico de las ligaduras del espacio\n",
    "\n",
    "$\\bullet ds^1 = IdE= dq$, Producción elemental de productos básicos\n",
    "\n",
    "$\\bullet ds^2 = PdQ = dW$, Trabajo económico elemental del sistema\n",
    "\n",
    "$\\bullet ds^3 = dG + PdQ + QdP = dH$, Entalpía económica elemental\n",
    "\n",
    "$\\bullet ds^4 = dG - IdE - EdI = dA$, Economía elemental de la energía de Helmholtz\n",
    "\n",
    "$\\bullet ds^5 = dG - IdE + PdQ $, Economía de contacto 1-forma\n",
    "\n",
    "El desplazamiento espacial o elemento de longitud de arco viene dado por forma cuadrática diferencial:\n",
    "\n",
    "$ds^2 = g_{ij}dx^i dx^j$$\\hspace{0.2cm}$ $i,j= 1,2,...,5$ \n",
    "\n",
    "Luego, la métrica covariante en el espacio económico Riemanniano viene dada por:\n",
    "\n",
    "$(g_{ij})= \\begin{pmatrix}3&-x^3&-2x^2&x^5 &  2x^4 \\\\   -x^3 &(x^3)^2 & x^2x^3 & 0 & 0 \\\\ -2x^2 & x^2x^3 & 3(x^2)^2 & 0 & -x^2x^4 \\\\  x^5 & 0 & 0 & (x^5)^2 & x^4x^5 \\\\  2x^4 & 0 & -x^2x^4 & x^4x^5 & 3(x^4)^2 \\end{pmatrix}$\n",
    "\n",
    "Las componentes $g_{ij}$ de la métrica son llamadas los potenciales gravito-económicos. Estos determinan los coeficientes de conexión Levi-Civita, el tensor de campo de curvatura, el tensor de campo de Ricci, el tensor de Riemann-Christoffel, etc\n",
    "\n",
    "\n",
    "\n",
    "\n",
    "\n",
    "\n"
   ]
  },
  {
   "cell_type": "markdown",
   "metadata": {},
   "source": [
    "## Tensor de curvatura de Riemann-Christoffel\n",
    "\n",
    "$R^{\\lambda}_{\\mu \\nu \\kappa}=\\partial_{\\kappa}\\Gamma^{\\lambda}_{\\mu \\nu}-\\partial_{\\nu}\\Gamma^{\\lambda}_{\\mu \\kappa}+\\Gamma^{\\eta}_{\\mu \\nu}\\Gamma^{\\lambda}_{\\kappa\\eta}-\\Gamma^{\\eta}_{\\mu\\kappa}\\Gamma^{\\lambda}_{\\nu\\eta}$\n",
    "\n",
    "Donde $\\Gamma^{a}_{bc}$ son los símbolos de Christoffel de segunda clase y $\\partial_\\mu=\\dfrac{\\partial}{\\partial q^\\mu}$ las derivadas respecto a las coordenadas generalizadas. \n",
    "\n",
    "Este tensor que es la generalización del concepto de curvatura de Gauss, representa una medida de la separación de la métrica de la variedad respecto de la métrica Euclídea. Nos da información de la evolución de la separación de un conjunto de geodésicas inicialmente próximas.\n",
    "\n",
    "Cumple las siguientes identidades:\n",
    "\n",
    "$\\bullet R^{\\lambda}_{\\mu \\nu \\kappa}+R^{\\mu}_{\\lambda \\nu \\kappa}=0$\n",
    "\n",
    "$\\bullet R^{\\lambda}_{\\mu \\nu \\kappa}+R^{\\lambda}_{\\lambda \\kappa \\nu}=0$\n",
    "\n",
    "$\\bullet R^{\\lambda}_{\\mu \\nu \\kappa}+R^{\\lambda}_{\\nu \\kappa \\mu}+R^{\\lambda}_{\\kappa \\mu \\nu}=0$\n",
    "\n",
    "Se muestran las componentes no nulas del tensor de Riemann:\n",
    "\n"
   ]
  },
  {
   "cell_type": "code",
   "execution_count": null,
   "metadata": {},
   "outputs": [],
   "source": []
  }
 ],
 "metadata": {
  "kernelspec": {
   "display_name": "Python 3",
   "language": "python",
   "name": "python3"
  },
  "language_info": {
   "codemirror_mode": {
    "name": "ipython",
    "version": 3
   },
   "file_extension": ".py",
   "mimetype": "text/x-python",
   "name": "python",
   "nbconvert_exporter": "python",
   "pygments_lexer": "ipython3",
   "version": "3.7.3"
  }
 },
 "nbformat": 4,
 "nbformat_minor": 2
}
